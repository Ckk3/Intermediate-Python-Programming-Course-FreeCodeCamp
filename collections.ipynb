{
 "cells": [
  {
   "attachments": {},
   "cell_type": "markdown",
   "metadata": {},
   "source": [
    "Counter"
   ]
  },
  {
   "cell_type": "code",
   "execution_count": 2,
   "metadata": {},
   "outputs": [
    {
     "data": {
      "text/plain": [
       "Counter({'a': 7, 'b': 4, 'c': 5})"
      ]
     },
     "execution_count": 2,
     "metadata": {},
     "output_type": "execute_result"
    }
   ],
   "source": [
    "from collections import Counter\n",
    "# Counter is a subclass of dict that is used to count hashable objects\n",
    "a = 'aaaaaaabbbbccccc'\n",
    "my_counter = Counter(a)\n",
    "print(my_counter)\n"
   ]
  },
  {
   "cell_type": "code",
   "execution_count": 7,
   "metadata": {},
   "outputs": [
    {
     "data": {
      "text/plain": [
       "[('a', 7)]"
      ]
     },
     "execution_count": 7,
     "metadata": {},
     "output_type": "execute_result"
    }
   ],
   "source": [
    "# Show most commons elements and their counts\n",
    "my_counter.most_common(1)"
   ]
  },
  {
   "cell_type": "code",
   "execution_count": 8,
   "metadata": {},
   "outputs": [
    {
     "data": {
      "text/plain": [
       "'a'"
      ]
     },
     "execution_count": 8,
     "metadata": {},
     "output_type": "execute_result"
    }
   ],
   "source": [
    "# get most commom element\n",
    "my_counter.most_common(1)[0][0]"
   ]
  },
  {
   "cell_type": "code",
   "execution_count": 9,
   "metadata": {},
   "outputs": [
    {
     "name": "stdout",
     "output_type": "stream",
     "text": [
      "['a', 'a', 'a', 'a', 'a', 'a', 'a', 'b', 'b', 'b', 'b', 'c', 'c', 'c', 'c', 'c']\n"
     ]
    }
   ],
   "source": [
    "# See ad iterable\n",
    "print(list(my_counter.elements()))"
   ]
  },
  {
   "attachments": {},
   "cell_type": "markdown",
   "metadata": {},
   "source": [
    "NamedTuple"
   ]
  },
  {
   "cell_type": "code",
   "execution_count": 20,
   "metadata": {},
   "outputs": [
    {
     "name": "stdout",
     "output_type": "stream",
     "text": [
      "Position(x=1, y=2)\n",
      "1\n",
      "2\n"
     ]
    }
   ],
   "source": [
    "from collections import namedtuple\n",
    "# Create a named tuple, it is a subclass of tuple with named fields\n",
    "Coord = namedtuple('Position', 'x, y')\n",
    "co = Coord(1,2)\n",
    "print(co)\n",
    "print(co.x)\n",
    "print(co.y)"
   ]
  },
  {
   "attachments": {},
   "cell_type": "markdown",
   "metadata": {},
   "source": [
    "OrderedDict"
   ]
  },
  {
   "cell_type": "code",
   "execution_count": 23,
   "metadata": {},
   "outputs": [
    {
     "name": "stdout",
     "output_type": "stream",
     "text": [
      "OrderedDict([('a', 1), ('c', 3), ('b', 2)])\n"
     ]
    }
   ],
   "source": [
    "# Its like a dictionary but you can access the values by index, most usable if you in python 2.7\n",
    "from collections import OrderedDict\n",
    "ordered_dict = OrderedDict()\n",
    "ordered_dict['a'] = 1\n",
    "ordered_dict['c'] = 3\n",
    "ordered_dict['b'] = 2\n",
    "print(ordered_dict)\n"
   ]
  },
  {
   "attachments": {},
   "cell_type": "markdown",
   "metadata": {},
   "source": [
    "DefaultDict"
   ]
  },
  {
   "cell_type": "code",
   "execution_count": 35,
   "metadata": {},
   "outputs": [
    {
     "name": "stdout",
     "output_type": "stream",
     "text": [
      "defaultdict(<class 'tuple'>, {'a': (1, 2), 'b': (3, 4)})\n",
      "()\n"
     ]
    }
   ],
   "source": [
    "from collections import defaultdict\n",
    "# Default dict is a subclass of dict that returns a default value for a key that does not exists\n",
    "default_disct = defaultdict(tuple)\n",
    "default_disct['a'] = (1, 2)\n",
    "default_disct['b'] = (3, 4)\n",
    "print(default_disct)\n",
    "print(default_disct['c'])"
   ]
  },
  {
   "attachments": {},
   "cell_type": "markdown",
   "metadata": {},
   "source": [
    "Deque"
   ]
  },
  {
   "cell_type": "code",
   "execution_count": 45,
   "metadata": {},
   "outputs": [
    {
     "name": "stdout",
     "output_type": "stream",
     "text": [
      "deque([1, 2])\n",
      "deque([3, 1, 2])\n",
      "deque([3, 1])\n",
      "deque([1])\n",
      "deque([1, 4, 5, 6])\n",
      "deque([-1, 0, 1, 4, 5, 6])\n",
      "deque([6, -1, 0, 1, 4, 5])\n",
      "deque([-1, 0, 1, 4, 5, 6])\n"
     ]
    }
   ],
   "source": [
    "from collections import deque\n",
    "# Deque is a double ended queue, it is a list optimized for inserting and removing elements from both ends (left and right)\n",
    "deque_test = deque()\n",
    "deque_test.append(1)\n",
    "deque_test.append(2)\n",
    "print(deque_test)\n",
    "deque_test.appendleft(3)\n",
    "print(deque_test)\n",
    "deque_test.pop()\n",
    "print(deque_test)\n",
    "deque_test.popleft()\n",
    "print(deque_test)\n",
    "deque_test.extend([4,5,6])\n",
    "print(deque_test)\n",
    "deque_test.extendleft([0, -1])\n",
    "print(deque_test)\n",
    "\n",
    "# Rotate all values to the right\n",
    "deque_test.rotate(1)\n",
    "print(deque_test)\n",
    "# Now to the left\n",
    "deque_test.rotate(-1)\n",
    "print(deque_test)"
   ]
  }
 ],
 "metadata": {
  "kernelspec": {
   "display_name": "venv",
   "language": "python",
   "name": "python3"
  },
  "language_info": {
   "codemirror_mode": {
    "name": "ipython",
    "version": 3
   },
   "file_extension": ".py",
   "mimetype": "text/x-python",
   "name": "python",
   "nbconvert_exporter": "python",
   "pygments_lexer": "ipython3",
   "version": "3.11.2"
  },
  "orig_nbformat": 4,
  "vscode": {
   "interpreter": {
    "hash": "5fc763256bb489618dad0275bd04110f4b50f4b5b410c25efa6c1a65b23f5f1b"
   }
  }
 },
 "nbformat": 4,
 "nbformat_minor": 2
}
