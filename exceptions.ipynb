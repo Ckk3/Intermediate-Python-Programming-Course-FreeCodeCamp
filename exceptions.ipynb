{
 "cells": [
  {
   "attachments": {},
   "cell_type": "markdown",
   "metadata": {},
   "source": [
    "Finally"
   ]
  },
  {
   "cell_type": "code",
   "execution_count": 1,
   "metadata": {},
   "outputs": [
    {
     "name": "stdout",
     "output_type": "stream",
     "text": [
      "first try\n",
      "unsupported operand type(s) for +: 'int' and 'str'\n",
      "this run anyway\n"
     ]
    }
   ],
   "source": [
    "try:\n",
    "    print('first try')\n",
    "    a = 2 + '1'\n",
    "    print('do not error')\n",
    "except TypeError as e:\n",
    "    print(e)\n",
    "finally:\n",
    "    print('this run anyway')"
   ]
  },
  {
   "attachments": {},
   "cell_type": "markdown",
   "metadata": {},
   "source": [
    "Create a custom exception"
   ]
  },
  {
   "cell_type": "code",
   "execution_count": 3,
   "metadata": {},
   "outputs": [
    {
     "name": "stdout",
     "output_type": "stream",
     "text": [
      "123\n",
      "Just a test\n"
     ]
    }
   ],
   "source": [
    "class CustomException(Exception):\n",
    "    pass\n",
    "\n",
    "a = 123\n",
    "print(a)\n",
    "try:\n",
    "    if a == 123:\n",
    "        raise CustomException('Just a test')\n",
    "except CustomException as e:\n",
    "    print(e)\n"
   ]
  }
 ],
 "metadata": {
  "kernelspec": {
   "display_name": "venv",
   "language": "python",
   "name": "python3"
  },
  "language_info": {
   "codemirror_mode": {
    "name": "ipython",
    "version": 3
   },
   "file_extension": ".py",
   "mimetype": "text/x-python",
   "name": "python",
   "nbconvert_exporter": "python",
   "pygments_lexer": "ipython3",
   "version": "3.11.0"
  },
  "orig_nbformat": 4,
  "vscode": {
   "interpreter": {
    "hash": "5fc763256bb489618dad0275bd04110f4b50f4b5b410c25efa6c1a65b23f5f1b"
   }
  }
 },
 "nbformat": 4,
 "nbformat_minor": 2
}
