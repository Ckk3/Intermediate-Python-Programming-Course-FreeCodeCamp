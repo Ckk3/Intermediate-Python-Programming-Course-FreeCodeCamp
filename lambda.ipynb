{
 "cells": [
  {
   "attachments": {},
   "cell_type": "markdown",
   "metadata": {},
   "source": [
    "Lambda"
   ]
  },
  {
   "cell_type": "code",
   "execution_count": 1,
   "metadata": {},
   "outputs": [
    {
     "name": "stdout",
     "output_type": "stream",
     "text": [
      "15\n"
     ]
    }
   ],
   "source": [
    "# Lambda is a small anonymous function that can be salved in a variable\n",
    "add_10 = lambda x: x + 10\n",
    "\n",
    "print(add_10(5))"
   ]
  },
  {
   "attachments": {},
   "cell_type": "markdown",
   "metadata": {},
   "source": [
    "Sorted Method"
   ]
  },
  {
   "cell_type": "code",
   "execution_count": 6,
   "metadata": {},
   "outputs": [
    {
     "name": "stdout",
     "output_type": "stream",
     "text": [
      "[(1, 2), (5, -1), (10, 4), (15, 1)]\n",
      "[(5, -1), (15, 1), (1, 2), (10, 4)]\n",
      "[(1, 2), (5, -1), (10, 4), (15, 1)]\n"
     ]
    }
   ],
   "source": [
    "# List of points\n",
    "points_2d = [(1, 2), (15, 1), (5, -1), (10, 4)]\n",
    "\n",
    "# this sort the list by the first element of the tuple\n",
    "points_2d_sorted = sorted(points_2d)\n",
    "print(points_2d_sorted)\n",
    "\n",
    "# this sort the list by the second element of the tuple\n",
    "points_2d_sorted = sorted(points_2d, key=lambda x: x[1])\n",
    "print(points_2d_sorted)\n",
    "\n",
    "# sort the list by the sum of the elements of the tuple\n",
    "# can use lambda to like lambda x: x[0] + x[1]\n",
    "points_2d_sorted = sorted(points_2d, key=lambda x: sum(x))\n",
    "print(points_2d_sorted)"
   ]
  },
  {
   "attachments": {},
   "cell_type": "markdown",
   "metadata": {},
   "source": [
    "Map function"
   ]
  },
  {
   "cell_type": "code",
   "execution_count": 8,
   "metadata": {},
   "outputs": [
    {
     "name": "stdout",
     "output_type": "stream",
     "text": [
      "[6, 7, 8, 9, 10]\n",
      "[6, 7, 8, 9, 10]\n",
      "[6, 7, 8, 9, 10]\n"
     ]
    }
   ],
   "source": [
    "a = [1, 2, 3, 4, 5]\n",
    "b = [6, 7, 8, 9, 10]\n",
    "b_copy = map(lambda x: x+5, a)\n",
    "print(b)\n",
    "print(list(b_copy))\n",
    "# list comprehension\n",
    "b_copy = [x+5 for x in a]\n",
    "print(b_copy)"
   ]
  },
  {
   "attachments": {},
   "cell_type": "markdown",
   "metadata": {},
   "source": [
    "Filter Function"
   ]
  },
  {
   "cell_type": "code",
   "execution_count": 10,
   "metadata": {},
   "outputs": [
    {
     "name": "stdout",
     "output_type": "stream",
     "text": [
      "[2, 4, 6]\n",
      "[2, 4, 6]\n"
     ]
    }
   ],
   "source": [
    "# Return true or false\n",
    "a = [1, 2, 3, 4, 5, 6]\n",
    "b = filter(lambda x: x % 2 == 0, a)\n",
    "print(list(b))\n",
    "# Can do with list comprehension\n",
    "b_copy = [x for x in a if x%2 == 0]\n",
    "print(b_copy)"
   ]
  },
  {
   "attachments": {},
   "cell_type": "markdown",
   "metadata": {},
   "source": [
    "Recude Function"
   ]
  },
  {
   "cell_type": "code",
   "execution_count": 11,
   "metadata": {},
   "outputs": [
    {
     "name": "stdout",
     "output_type": "stream",
     "text": [
      "10\n",
      "24\n"
     ]
    }
   ],
   "source": [
    "from functools import reduce\n",
    "# Apply a function to a list and return a single value\n",
    "a = [1, 2, 3, 4]\n",
    "# Sum all values\n",
    "sum_a = reduce(lambda x, y: x + y, a)\n",
    "product_a = reduce(lambda x, y: x * y, a)\n",
    "print(sum_a)\n",
    "print(product_a)\n"
   ]
  }
 ],
 "metadata": {
  "kernelspec": {
   "display_name": "venv",
   "language": "python",
   "name": "python3"
  },
  "language_info": {
   "codemirror_mode": {
    "name": "ipython",
    "version": 3
   },
   "file_extension": ".py",
   "mimetype": "text/x-python",
   "name": "python",
   "nbconvert_exporter": "python",
   "pygments_lexer": "ipython3",
   "version": "3.11.0"
  },
  "orig_nbformat": 4,
  "vscode": {
   "interpreter": {
    "hash": "5fc763256bb489618dad0275bd04110f4b50f4b5b410c25efa6c1a65b23f5f1b"
   }
  }
 },
 "nbformat": 4,
 "nbformat_minor": 2
}
