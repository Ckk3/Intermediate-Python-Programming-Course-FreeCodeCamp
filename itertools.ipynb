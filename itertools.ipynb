{
 "cells": [
  {
   "attachments": {},
   "cell_type": "markdown",
   "metadata": {},
   "source": [
    "Itertools"
   ]
  },
  {
   "cell_type": "code",
   "execution_count": 8,
   "metadata": {},
   "outputs": [
    {
     "name": "stdout",
     "output_type": "stream",
     "text": [
      "[(1, 'a', 'x'), (1, 'a', 'y'), (1, 'a', 'z'), (1, 'b', 'x'), (1, 'b', 'y'), (1, 'b', 'z'), (2, 'a', 'x'), (2, 'a', 'y'), (2, 'a', 'z'), (2, 'b', 'x'), (2, 'b', 'y'), (2, 'b', 'z'), (3, 'a', 'x'), (3, 'a', 'y'), (3, 'a', 'z'), (3, 'b', 'x'), (3, 'b', 'y'), (3, 'b', 'z')]\n",
      "[(1, 'a', 1, 'a'), (1, 'a', 1, 'b'), (1, 'a', 2, 'a'), (1, 'a', 2, 'b'), (1, 'a', 3, 'a'), (1, 'a', 3, 'b'), (1, 'b', 1, 'a'), (1, 'b', 1, 'b'), (1, 'b', 2, 'a'), (1, 'b', 2, 'b'), (1, 'b', 3, 'a'), (1, 'b', 3, 'b'), (2, 'a', 1, 'a'), (2, 'a', 1, 'b'), (2, 'a', 2, 'a'), (2, 'a', 2, 'b'), (2, 'a', 3, 'a'), (2, 'a', 3, 'b'), (2, 'b', 1, 'a'), (2, 'b', 1, 'b'), (2, 'b', 2, 'a'), (2, 'b', 2, 'b'), (2, 'b', 3, 'a'), (2, 'b', 3, 'b'), (3, 'a', 1, 'a'), (3, 'a', 1, 'b'), (3, 'a', 2, 'a'), (3, 'a', 2, 'b'), (3, 'a', 3, 'a'), (3, 'a', 3, 'b'), (3, 'b', 1, 'a'), (3, 'b', 1, 'b'), (3, 'b', 2, 'a'), (3, 'b', 2, 'b'), (3, 'b', 3, 'a'), (3, 'b', 3, 'b')]\n"
     ]
    }
   ],
   "source": [
    "from itertools import product\n",
    "# Create a cartesian product with all possible values of two sets \n",
    "set_a = [1,2,3]\n",
    "set_b = ['a','b']\n",
    "prod = product(set_a,set_b)\n",
    "print(list(prod))\n",
    "# Repeat\n",
    "prod = product(set_a,set_b, repeat=2)\n",
    "print(list(prod))"
   ]
  },
  {
   "attachments": {},
   "cell_type": "markdown",
   "metadata": {},
   "source": [
    "Permutations"
   ]
  },
  {
   "cell_type": "code",
   "execution_count": 7,
   "metadata": {},
   "outputs": [
    {
     "name": "stdout",
     "output_type": "stream",
     "text": [
      "[(1, 2, 3), (1, 3, 2), (2, 1, 3), (2, 3, 1), (3, 1, 2), (3, 2, 1)]\n",
      "[(1, 2), (1, 3), (2, 1), (2, 3), (3, 1), (3, 2)]\n"
     ]
    }
   ],
   "source": [
    "from itertools import permutations\n",
    "# Return all possible permutations of a set\n",
    "a = [1,2,3]\n",
    "perm = permutations(a)\n",
    "print(list(perm))\n",
    "# Change range\n",
    "perm = permutations(a, r=2)\n",
    "print(list(perm))"
   ]
  },
  {
   "attachments": {},
   "cell_type": "markdown",
   "metadata": {},
   "source": [
    "Combinations"
   ]
  },
  {
   "cell_type": "code",
   "execution_count": 15,
   "metadata": {},
   "outputs": [
    {
     "name": "stdout",
     "output_type": "stream",
     "text": [
      "[(1, 2), (1, 3), (1, 4), (2, 3), (2, 4), (3, 4)]\n",
      "[(1, 1), (1, 2), (1, 3), (1, 4), (2, 2), (2, 3), (2, 4), (3, 3), (3, 4), (4, 4)]\n"
     ]
    }
   ],
   "source": [
    "from itertools import combinations, combinations_with_replacement\n",
    "# Return all possible combinations of a set\n",
    "set_a = [1,2,3,4]\n",
    "comb = combinations(set_a, 2)\n",
    "print(list(comb))\n",
    "# Combinations with replacement\n",
    "comb = combinations_with_replacement(set_a, 2)\n",
    "print(list(comb))"
   ]
  },
  {
   "attachments": {},
   "cell_type": "markdown",
   "metadata": {},
   "source": [
    "Accumulate"
   ]
  },
  {
   "cell_type": "code",
   "execution_count": 22,
   "metadata": {},
   "outputs": [
    {
     "name": "stdout",
     "output_type": "stream",
     "text": [
      "[1, 2, 3, 4]\n",
      "[1, 3, 6, 10]\n",
      "[1, 2, 6, 24]\n"
     ]
    }
   ],
   "source": [
    "from itertools import accumulate\n",
    "# Return the accumulated sum of a set \n",
    "a = [1,2,3,4]\n",
    "print(list(a))\n",
    "acc = accumulate(a)\n",
    "print(list(acc))\n",
    "# Also can multiply intead of sum \n",
    "from operator import mul\n",
    "acc = accumulate(a, func=mul)\n",
    "print(list(acc))\n"
   ]
  },
  {
   "attachments": {},
   "cell_type": "markdown",
   "metadata": {},
   "source": [
    "GroupBy"
   ]
  },
  {
   "cell_type": "code",
   "execution_count": 48,
   "metadata": {},
   "outputs": [
    {
     "name": "stdout",
     "output_type": "stream",
     "text": [
      "False [1, 2, 3]\n",
      "True [4, 5, 6, 7, 8, 9]\n",
      "{True: [4, 5, 6, 7, 8, 9], False: [1, 2, 3]}\n"
     ]
    }
   ],
   "source": [
    "from itertools import groupby\n",
    "# Aggoup elements of a set based on a function\n",
    "\n",
    "\n",
    "upper_than_3 = lambda x: x > 3\n",
    "\n",
    "a = [1,2,3,4,5,6,7,8,9]\n",
    "group_obj = groupby(a, key=upper_than_3)\n",
    "\n",
    "for key, value in group_obj:\n",
    "    print(key, list(value))\n",
    "\n",
    "# Trying to do the same with list comprehension\n",
    "dict_test = {True: [], False: []}\n",
    "list_test = [dict_test[True].append(x) if x > 3 else dict_test[False].append(x) for x in a]\n",
    "print(dict_test)"
   ]
  },
  {
   "cell_type": "code",
   "execution_count": 49,
   "metadata": {},
   "outputs": [
    {
     "name": "stdout",
     "output_type": "stream",
     "text": [
      "25 [{'name': 'Tim', 'age': 25}, {'name': 'Dan', 'age': 25}]\n",
      "27 [{'name': 'Lisa', 'age': 27}]\n",
      "28 [{'name': 'Claire', 'age': 28}]\n"
     ]
    }
   ],
   "source": [
    "# groupyby age\n",
    "persons = [{'name': 'Tim', 'age': 25}, {'name': 'Dan', 'age': 25}, {'name': 'Lisa', 'age': 27}, {'name': 'Claire', 'age': 28}]\n",
    "\n",
    "age_function = lambda x: x['age']\n",
    "group_obj = groupby(persons, key=age_function)\n",
    "\n",
    "for key, value in group_obj:\n",
    "    print(key, list(value))"
   ]
  },
  {
   "attachments": {},
   "cell_type": "markdown",
   "metadata": {},
   "source": [
    "Infinite Iterators"
   ]
  },
  {
   "cell_type": "code",
   "execution_count": 51,
   "metadata": {},
   "outputs": [
    {
     "name": "stdout",
     "output_type": "stream",
     "text": [
      "7\n",
      "8\n",
      "9\n",
      "10\n",
      "11\n",
      "12\n",
      "13\n",
      "14\n",
      "15\n",
      "16\n",
      "17\n",
      "18\n",
      "19\n",
      "20\n"
     ]
    }
   ],
   "source": [
    "from itertools import count, cycle, repeat\n",
    "\n",
    "# Count \n",
    "# Count from a number to infinity\n",
    "for i in count(7):\n",
    "    print(i)\n",
    "    if i == 20:\n",
    "        break\n"
   ]
  },
  {
   "cell_type": "code",
   "execution_count": 53,
   "metadata": {},
   "outputs": [
    {
     "name": "stdout",
     "output_type": "stream",
     "text": [
      "1\n",
      "2\n",
      "3\n",
      "1\n",
      "2\n",
      "3\n",
      "1\n",
      "2\n",
      "3\n",
      "1\n",
      "2\n",
      "3\n",
      "1\n",
      "2\n",
      "3\n",
      "1\n",
      "2\n",
      "3\n"
     ]
    }
   ],
   "source": [
    "# Cycle\n",
    "# Cycle through a list infinitely\n",
    "a = [1,2,3]\n",
    "x = 1\n",
    "for i in cycle(a):\n",
    "    print(i)\n",
    "    if x == 18:\n",
    "        break\n",
    "    x += 1"
   ]
  },
  {
   "cell_type": "code",
   "execution_count": 56,
   "metadata": {},
   "outputs": [
    {
     "name": "stdout",
     "output_type": "stream",
     "text": [
      "[1, 3]\n",
      "[1, 3]\n",
      "[1, 3]\n",
      "[1, 3]\n",
      "[1, 3]\n",
      "[1, 3]\n",
      "[1, 3]\n",
      "[1, 3]\n",
      "[1, 3]\n",
      "[1, 3]\n"
     ]
    }
   ],
   "source": [
    "# Repeat\n",
    "# Repeat an element a number of times\n",
    "for i in repeat([1,3], 10):\n",
    "    print(i)"
   ]
  }
 ],
 "metadata": {
  "kernelspec": {
   "display_name": "venv",
   "language": "python",
   "name": "python3"
  },
  "language_info": {
   "codemirror_mode": {
    "name": "ipython",
    "version": 3
   },
   "file_extension": ".py",
   "mimetype": "text/x-python",
   "name": "python",
   "nbconvert_exporter": "python",
   "pygments_lexer": "ipython3",
   "version": "3.11.0"
  },
  "orig_nbformat": 4,
  "vscode": {
   "interpreter": {
    "hash": "5fc763256bb489618dad0275bd04110f4b50f4b5b410c25efa6c1a65b23f5f1b"
   }
  }
 },
 "nbformat": 4,
 "nbformat_minor": 2
}
