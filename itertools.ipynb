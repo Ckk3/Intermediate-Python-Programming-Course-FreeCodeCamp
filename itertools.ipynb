{
 "cells": [
  {
   "attachments": {},
   "cell_type": "markdown",
   "metadata": {},
   "source": [
    "Itertools"
   ]
  },
  {
   "cell_type": "code",
   "execution_count": 5,
   "metadata": {},
   "outputs": [
    {
     "name": "stdout",
     "output_type": "stream",
     "text": [
      "[(1, 'a'), (1, 'b'), (2, 'a'), (2, 'b'), (3, 'a'), (3, 'b')]\n",
      "[(1, 'a', 1, 'a'), (1, 'a', 1, 'b'), (1, 'a', 2, 'a'), (1, 'a', 2, 'b'), (1, 'a', 3, 'a'), (1, 'a', 3, 'b'), (1, 'b', 1, 'a'), (1, 'b', 1, 'b'), (1, 'b', 2, 'a'), (1, 'b', 2, 'b'), (1, 'b', 3, 'a'), (1, 'b', 3, 'b'), (2, 'a', 1, 'a'), (2, 'a', 1, 'b'), (2, 'a', 2, 'a'), (2, 'a', 2, 'b'), (2, 'a', 3, 'a'), (2, 'a', 3, 'b'), (2, 'b', 1, 'a'), (2, 'b', 1, 'b'), (2, 'b', 2, 'a'), (2, 'b', 2, 'b'), (2, 'b', 3, 'a'), (2, 'b', 3, 'b'), (3, 'a', 1, 'a'), (3, 'a', 1, 'b'), (3, 'a', 2, 'a'), (3, 'a', 2, 'b'), (3, 'a', 3, 'a'), (3, 'a', 3, 'b'), (3, 'b', 1, 'a'), (3, 'b', 1, 'b'), (3, 'b', 2, 'a'), (3, 'b', 2, 'b'), (3, 'b', 3, 'a'), (3, 'b', 3, 'b')]\n"
     ]
    }
   ],
   "source": [
    "from itertools import product\n",
    "# Create a cartesian product with all possible values of two sets \n",
    "set_a = [1,2,3]\n",
    "set_b = ['a','b']\n",
    "prod = product(set_a,set_b)\n",
    "print(list(prod))\n",
    "# Repeat\n",
    "prod = product(set_a,set_b, repeat=2)\n",
    "print(list(prod))"
   ]
  },
  {
   "attachments": {},
   "cell_type": "markdown",
   "metadata": {},
   "source": [
    "Permutations"
   ]
  },
  {
   "cell_type": "code",
   "execution_count": 7,
   "metadata": {},
   "outputs": [
    {
     "name": "stdout",
     "output_type": "stream",
     "text": [
      "[(1, 2, 3), (1, 3, 2), (2, 1, 3), (2, 3, 1), (3, 1, 2), (3, 2, 1)]\n",
      "[(1, 2), (1, 3), (2, 1), (2, 3), (3, 1), (3, 2)]\n"
     ]
    }
   ],
   "source": [
    "from itertools import permutations\n",
    "# Return all possible permutations of a set\n",
    "a = [1,2,3]\n",
    "perm = permutations(a)\n",
    "print(list(perm))\n",
    "# Change range\n",
    "perm = permutations(a, r=2)\n",
    "print(list(perm))"
   ]
  }
 ],
 "metadata": {
  "kernelspec": {
   "display_name": "venv",
   "language": "python",
   "name": "python3"
  },
  "language_info": {
   "codemirror_mode": {
    "name": "ipython",
    "version": 3
   },
   "file_extension": ".py",
   "mimetype": "text/x-python",
   "name": "python",
   "nbconvert_exporter": "python",
   "pygments_lexer": "ipython3",
   "version": "3.11.0"
  },
  "orig_nbformat": 4,
  "vscode": {
   "interpreter": {
    "hash": "5fc763256bb489618dad0275bd04110f4b50f4b5b410c25efa6c1a65b23f5f1b"
   }
  }
 },
 "nbformat": 4,
 "nbformat_minor": 2
}
