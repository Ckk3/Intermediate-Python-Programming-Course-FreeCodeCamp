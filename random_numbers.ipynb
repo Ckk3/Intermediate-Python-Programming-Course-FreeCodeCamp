{
 "cells": [
  {
   "attachments": {},
   "cell_type": "markdown",
   "metadata": {},
   "source": [
    "Random.random"
   ]
  },
  {
   "cell_type": "code",
   "execution_count": 36,
   "metadata": {},
   "outputs": [
    {
     "name": "stdout",
     "output_type": "stream",
     "text": [
      "0.3459958169439632\n",
      "4.269049229183962\n",
      "6\n"
     ]
    }
   ],
   "source": [
    "import random\n",
    "\n",
    "# Returno a random float number between 0 and 1\n",
    "a = random.random()\n",
    "print(a)\n",
    "# Return a random float number between 1 and 10\n",
    "a = random.uniform(1, 10)\n",
    "print(a)\n",
    "# Return a random integer number between 1 and 10\n",
    "a = random.randint(1, 10)\n",
    "print(a)\n",
    "# Other Random Functions\n",
    "# Using standard normal distribution\n",
    "a = random.normalvariate(0, 1)\n",
    "print(a)"
   ]
  },
  {
   "cell_type": "code",
   "execution_count": 113,
   "metadata": {},
   "outputs": [
    {
     "name": "stdout",
     "output_type": "stream",
     "text": [
      "4\n",
      "[4, 1, 5]\n",
      "[5, 5, 4]\n",
      "[3, 1, 5, 4, 2]\n"
     ]
    }
   ],
   "source": [
    "# random choice\n",
    "a = random.choice([1, 2, 3, 4, 5])\n",
    "print(a)\n",
    "# pick a random sample from a list with 3 elements\n",
    "a = random.sample([1, 2, 3, 4, 5], 3)\n",
    "print(a)\n",
    "a = random.choices([1, 2, 3, 4, 5], k=3)\n",
    "print(a)\n",
    "# Shuffle a list\n",
    "a = [1, 2, 3, 4, 5]\n",
    "random.shuffle(a)\n",
    "print(a)"
   ]
  },
  {
   "attachments": {},
   "cell_type": "markdown",
   "metadata": {},
   "source": [
    "Using seed"
   ]
  },
  {
   "cell_type": "code",
   "execution_count": 115,
   "metadata": {},
   "outputs": [
    {
     "name": "stdout",
     "output_type": "stream",
     "text": [
      "0.13436424411240122\n",
      "2\n",
      "0.13436424411240122\n",
      "2\n",
      "0.6229016948897019\n",
      "6\n"
     ]
    }
   ],
   "source": [
    "random.seed(1)\n",
    "print(random.random())\n",
    "print(random.randint(1, 10))\n",
    "random.seed(1)\n",
    "print(random.random())\n",
    "print(random.randint(1, 10))\n",
    "random.seed(5)\n",
    "print(random.random())\n",
    "print(random.randint(1, 10))"
   ]
  },
  {
   "attachments": {},
   "cell_type": "markdown",
   "metadata": {},
   "source": [
    "Secrets"
   ]
  },
  {
   "cell_type": "code",
   "execution_count": 149,
   "metadata": {},
   "outputs": [
    {
     "name": "stdout",
     "output_type": "stream",
     "text": [
      "2\n",
      "471\n",
      "3\n"
     ]
    }
   ],
   "source": [
    "import secrets\n",
    "# create real random numbers\n",
    "print(secrets.randbelow(10)) # Return a int number between 0 and 9\n",
    "# Return a ranidm int numver with maximum 10 bits lenght\n",
    "print(secrets.randbits(10))\n",
    "# Secret choice\n",
    "my_list = [1, 2, 3, 4, 5]\n",
    "print(secrets.choice(my_list))"
   ]
  },
  {
   "attachments": {},
   "cell_type": "markdown",
   "metadata": {},
   "source": [
    "NumPy"
   ]
  },
  {
   "cell_type": "code",
   "execution_count": 201,
   "metadata": {},
   "outputs": [
    {
     "name": "stdout",
     "output_type": "stream",
     "text": [
      "[[0.40106418 0.80829673 0.88241638 0.50408404]\n",
      " [0.79790809 0.65198805 0.97350525 0.27952262]\n",
      " [0.9707145  0.5385308  0.67476927 0.37539264]\n",
      " [0.36156235 0.36838017 0.45852029 0.67511177]\n",
      " [0.45836743 0.73004925 0.01826768 0.06150425]]\n",
      "[[6 7 6 2 8]\n",
      " [8 5 4 1 8]\n",
      " [7 2 2 5 9]\n",
      " [5 2 8 2 5]]\n",
      "[[8 5 4 1 8]\n",
      " [6 7 6 2 8]\n",
      " [7 2 2 5 9]\n",
      " [5 2 8 2 5]]\n"
     ]
    }
   ],
   "source": [
    "import numpy as np\n",
    "# Using numpy to generate random numbers\n",
    "a = np.random.rand(5, 4)\n",
    "print(a)\n",
    "a = np.random.randint(1, 10, size=(4, 5))\n",
    "print(a)\n",
    "# Shuffle a numpy array\n",
    "np.random.shuffle(a)\n",
    "print(a)"
   ]
  },
  {
   "cell_type": "code",
   "execution_count": 205,
   "metadata": {},
   "outputs": [
    {
     "name": "stdout",
     "output_type": "stream",
     "text": [
      "[[4.17022005e-01 7.20324493e-01 1.14374817e-04 3.02332573e-01]\n",
      " [1.46755891e-01 9.23385948e-02 1.86260211e-01 3.45560727e-01]\n",
      " [3.96767474e-01 5.38816734e-01 4.19194514e-01 6.85219500e-01]\n",
      " [2.04452250e-01 8.78117436e-01 2.73875932e-02 6.70467510e-01]\n",
      " [4.17304802e-01 5.58689828e-01 1.40386939e-01 1.98101489e-01]]\n",
      "[[4.17022005e-01 7.20324493e-01 1.14374817e-04 3.02332573e-01]\n",
      " [1.46755891e-01 9.23385948e-02 1.86260211e-01 3.45560727e-01]\n",
      " [3.96767474e-01 5.38816734e-01 4.19194514e-01 6.85219500e-01]\n",
      " [2.04452250e-01 8.78117436e-01 2.73875932e-02 6.70467510e-01]\n",
      " [4.17304802e-01 5.58689828e-01 1.40386939e-01 1.98101489e-01]]\n",
      "[[4.17022005e-01 7.20324493e-01 1.14374817e-04 3.02332573e-01]\n",
      " [1.46755891e-01 9.23385948e-02 1.86260211e-01 3.45560727e-01]\n",
      " [3.96767474e-01 5.38816734e-01 4.19194514e-01 6.85219500e-01]\n",
      " [2.04452250e-01 8.78117436e-01 2.73875932e-02 6.70467510e-01]\n",
      " [4.17304802e-01 5.58689828e-01 1.40386939e-01 1.98101489e-01]]\n"
     ]
    }
   ],
   "source": [
    "# Using seed\n",
    "np.random.seed(1)\n",
    "print(np.random.rand(5, 4))\n",
    "np.random.seed(1)\n",
    "print(np.random.rand(5, 4))\n",
    "np.random.seed(1)\n",
    "print(np.random.rand(5, 4))"
   ]
  }
 ],
 "metadata": {
  "kernelspec": {
   "display_name": "venv",
   "language": "python",
   "name": "python3"
  },
  "language_info": {
   "codemirror_mode": {
    "name": "ipython",
    "version": 3
   },
   "file_extension": ".py",
   "mimetype": "text/x-python",
   "name": "python",
   "nbconvert_exporter": "python",
   "pygments_lexer": "ipython3",
   "version": "3.11.0"
  },
  "orig_nbformat": 4,
  "vscode": {
   "interpreter": {
    "hash": "5fc763256bb489618dad0275bd04110f4b50f4b5b410c25efa6c1a65b23f5f1b"
   }
  }
 },
 "nbformat": 4,
 "nbformat_minor": 2
}
