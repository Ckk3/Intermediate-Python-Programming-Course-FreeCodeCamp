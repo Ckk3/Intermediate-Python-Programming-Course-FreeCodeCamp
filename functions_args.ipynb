{
 "cells": [
  {
   "attachments": {},
   "cell_type": "markdown",
   "metadata": {},
   "source": [
    "# Functions Arguments"
   ]
  },
  {
   "cell_type": "code",
   "execution_count": 1,
   "metadata": {},
   "outputs": [
    {
     "name": "stdout",
     "output_type": "stream",
     "text": [
      "John\n"
     ]
    }
   ],
   "source": [
    "# Differebce betwen parameters and arguments\n",
    "def print_name(name):\n",
    "    print(name)\n",
    "\n",
    "print_name(\"John\")\n",
    "# Parameters = name\n",
    "# Arguments = \"John\""
   ]
  },
  {
   "cell_type": "code",
   "execution_count": 33,
   "metadata": {},
   "outputs": [
    {
     "name": "stdout",
     "output_type": "stream",
     "text": [
      "John\n",
      "('Doe', 'Smith', 12) <class 'tuple'>\n",
      "{'age': 30, 'height': 180, 'weight': 80} <class 'dict'>\n"
     ]
    }
   ],
   "source": [
    "# args and kwargs\n",
    "def print_name(name, *args, **kwargs):\n",
    "    print(name)\n",
    "    print(args, type(args))\n",
    "    print(kwargs, type(kwargs))\n",
    "\n",
    "print_name(\"John\", \"Doe\", \"Smith\", 12, age=30, height=180, weight=80)"
   ]
  },
  {
   "cell_type": "code",
   "execution_count": 38,
   "metadata": {},
   "outputs": [
    {
     "name": "stdout",
     "output_type": "stream",
     "text": [
      "John 30\n"
     ]
    }
   ],
   "source": [
    "# Force arguments to be passed as keyword arguments\n",
    "\n",
    "def print_name(name, *, age):\n",
    "    print(name, age)\n",
    "\n",
    "print_name(\"John\", age=30)"
   ]
  },
  {
   "cell_type": "code",
   "execution_count": 41,
   "metadata": {},
   "outputs": [
    {
     "name": "stdout",
     "output_type": "stream",
     "text": [
      "('John', 'Doe', 'Smith')\n",
      "John\n"
     ]
    }
   ],
   "source": [
    "def print_name(*args, name):\n",
    "    print(args)\n",
    "    print(name)\n",
    "\n",
    "print_name(\"John\", \"Doe\", \"Smith\", name=\"John\")"
   ]
  },
  {
   "cell_type": "code",
   "execution_count": 1,
   "metadata": {},
   "outputs": [
    {
     "name": "stdout",
     "output_type": "stream",
     "text": [
      "John 30\n",
      "('Doe', 'Smith')\n",
      "John 2\n",
      "()\n"
     ]
    }
   ],
   "source": [
    "# Unpacking arguments in list directly into function\n",
    "\n",
    "def print_name(name, age, *args):\n",
    "    print(name, age)\n",
    "    print(args)\n",
    "\n",
    "names = [\"John\", 30, \"Doe\", \"Smith\"]\n",
    "\n",
    "print_name(*names)\n",
    "error_names = [\"John\"]\n",
    "print_name(*error_names, 2)"
   ]
  },
  {
   "cell_type": "code",
   "execution_count": 3,
   "metadata": {},
   "outputs": [
    {
     "name": "stdout",
     "output_type": "stream",
     "text": [
      "2\n",
      "1\n"
     ]
    }
   ],
   "source": [
    "# using gobal variabel\n",
    "\n",
    "\n",
    "\n",
    "def add_1():\n",
    "    global global_number\n",
    "    global_number += 1\n",
    "\n",
    "global_number = 1\n",
    "number = 1\n",
    "add_1()\n",
    "print(global_number)\n",
    "print(number)\n"
   ]
  },
  {
   "attachments": {},
   "cell_type": "markdown",
   "metadata": {},
   "source": [
    "`*` Asterisc operator"
   ]
  },
  {
   "cell_type": "code",
   "execution_count": 5,
   "metadata": {},
   "outputs": [
    {
     "name": "stdout",
     "output_type": "stream",
     "text": [
      "[0, 1, 2, 0, 1, 2, 0, 1, 2, 0, 1, 2, 0, 1, 2, 0, 1, 2, 0, 1, 2, 0, 1, 2, 0, 1, 2, 0, 1, 2]\n"
     ]
    }
   ],
   "source": [
    "zeros = [0, 1, 2] * 10\n",
    "print(zeros)"
   ]
  }
 ],
 "metadata": {
  "kernelspec": {
   "display_name": "venv",
   "language": "python",
   "name": "python3"
  },
  "language_info": {
   "codemirror_mode": {
    "name": "ipython",
    "version": 3
   },
   "file_extension": ".py",
   "mimetype": "text/x-python",
   "name": "python",
   "nbconvert_exporter": "python",
   "pygments_lexer": "ipython3",
   "version": "3.11.2"
  },
  "orig_nbformat": 4,
  "vscode": {
   "interpreter": {
    "hash": "5fc763256bb489618dad0275bd04110f4b50f4b5b410c25efa6c1a65b23f5f1b"
   }
  }
 },
 "nbformat": 4,
 "nbformat_minor": 2
}
