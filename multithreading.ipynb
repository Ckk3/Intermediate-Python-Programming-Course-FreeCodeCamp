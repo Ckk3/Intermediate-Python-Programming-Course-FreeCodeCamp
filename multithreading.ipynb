{
 "cells": [
  {
   "attachments": {},
   "cell_type": "markdown",
   "metadata": {},
   "source": [
    "# Multithreading"
   ]
  },
  {
   "attachments": {},
   "cell_type": "markdown",
   "metadata": {},
   "source": [
    "## Processes"
   ]
  },
  {
   "cell_type": "code",
   "execution_count": 1,
   "metadata": {},
   "outputs": [
    {
     "name": "stdout",
     "output_type": "stream",
     "text": [
      "All processes are done\n"
     ]
    }
   ],
   "source": [
    "from multiprocessing import Process\n",
    "import os\n",
    "import time\n",
    "\n",
    "def square_numbers():\n",
    "    for i in range(100):\n",
    "        i * i\n",
    "    time.sleep(0.1)\n",
    "\n",
    "\n",
    "processes = []\n",
    "# Set processes limits\n",
    "num_processes = os.cpu_count()\n",
    "\n",
    "# Create processes\n",
    "for i in range(num_processes):\n",
    "    p = Process(target=square_numbers)\n",
    "    processes.append(p)\n",
    "\n",
    "# Start processes\n",
    "for p in processes:\n",
    "    p.start()\n",
    "\n",
    "# join processes\n",
    "for p in processes:\n",
    "    p.join()\n",
    "\n",
    "print('All processes are done')"
   ]
  },
  {
   "cell_type": "code",
   "execution_count": 2,
   "metadata": {},
   "outputs": [
    {
     "name": "stdout",
     "output_type": "stream",
     "text": [
      "All processes are done\n"
     ]
    }
   ],
   "source": [
    "from threading import Thread\n",
    "import os\n",
    "import time\n",
    "\n",
    "def square_numbers():\n",
    "    for i in range(100):\n",
    "        i * i\n",
    "    time.sleep(0.1)\n",
    "\n",
    "\n",
    "threads = []\n",
    "num_threads = 20\n",
    "\n",
    "# Create thread\n",
    "for i in range(num_threads):\n",
    "    t = Thread(target=square_numbers)\n",
    "    threads.append(t)\n",
    "\n",
    "# Start processes\n",
    "for t in threads:\n",
    "    t.start()\n",
    "\n",
    "# join processes\n",
    "for t in threads:\n",
    "    t.join()\n",
    "\n",
    "print('All processes are done')"
   ]
  },
  {
   "attachments": {},
   "cell_type": "markdown",
   "metadata": {},
   "source": [
    "Test"
   ]
  },
  {
   "cell_type": "code",
   "execution_count": 3,
   "metadata": {},
   "outputs": [
    {
     "name": "stdout",
     "output_type": "stream",
     "text": [
      "Start value: 0\n",
      "1\n",
      "2\n",
      "2\n",
      "end main\n"
     ]
    }
   ],
   "source": [
    "from threading import Thread, Lock\n",
    "\n",
    "\n",
    "\n",
    "database_value = 0\n",
    "\n",
    "def increase(lock:Lock):\n",
    "    global database_value\n",
    "\n",
    "    # Open lock with lock.acquire() and close lock with lock.release(), same that we do in files like open() and close()\n",
    "    with lock:\n",
    "        local_copy = database_value\n",
    "\n",
    "        local_copy += 1\n",
    "        print(local_copy)\n",
    "\n",
    "        database_value = local_copy\n",
    "    \n",
    "\n",
    "\n",
    "if __name__ == '__main__':\n",
    "    print('Start value:', database_value)\n",
    "    # Use lock \n",
    "    lock = Lock()\n",
    "\n",
    "    thread_1 = Thread(target=increase, args=(lock,))\n",
    "    thread_2 = Thread(target=increase, args=(lock,))\n",
    "\n",
    "    thread_1.start()\n",
    "    thread_2.start()\n",
    "\n",
    "\n",
    "    thread_1.join()\n",
    "    thread_2.join()\n",
    "\n",
    "\n",
    "    print(database_value)\n",
    "    print('end main')"
   ]
  },
  {
   "attachments": {},
   "cell_type": "markdown",
   "metadata": {},
   "source": [
    "Using Queue"
   ]
  },
  {
   "cell_type": "code",
   "execution_count": 4,
   "metadata": {},
   "outputs": [
    {
     "name": "stdout",
     "output_type": "stream",
     "text": [
      "deque([1, 2, 3])\n"
     ]
    }
   ],
   "source": [
    "from queue import Queue\n",
    "\n",
    "q = Queue()\n",
    "q.put(1)\n",
    "q.put(2)\n",
    "q.put(3)\n",
    "\n",
    "print(q.queue)\n",
    "q.task_done()\n",
    "\n",
    "#q.join() # block until all tasks are done\n"
   ]
  },
  {
   "cell_type": "code",
   "execution_count": 14,
   "metadata": {},
   "outputs": [
    {
     "name": "stdout",
     "output_type": "stream",
     "text": [
      "value is 1 in thread Thread-115 (worker)\n",
      "value is 2 in thread Thread-115 (worker)\n",
      "value is 3 in thread Thread-115 (worker)\n",
      "value is 4 in thread Thread-115 (worker)\n",
      "value is 5 in thread Thread-115 (worker)\n",
      "value is 6 in thread Thread-115 (worker)\n",
      "value is 7 in thread Thread-115 (worker)\n",
      "value is 8 in thread Thread-115 (worker)\n",
      "value is 9 in thread Thread-115 (worker)\n",
      "value is 10 in thread Thread-115 (worker)\n",
      "value is 11 in thread Thread-115 (worker)\n",
      "value is 12 in thread Thread-115 (worker)\n",
      "value is 13 in thread Thread-115 (worker)\n",
      "value is 14 in thread Thread-115 (worker)\n",
      "value is 15 in thread Thread-115 (worker)\n",
      "value is 16 in thread Thread-115 (worker)\n",
      "value is 17 in thread Thread-115 (worker)\n",
      "value is 18 in thread Thread-115 (worker)\n",
      "value is 19 in thread Thread-115 (worker)\n",
      "end\n"
     ]
    }
   ],
   "source": [
    "from threading import Thread, Lock, current_thread\n",
    "\n",
    "# Queue is a thread safe data structure\n",
    "\n",
    "def worker(q, lock):\n",
    "    # infinite loop\n",
    "    while True:\n",
    "        # Get first item from queue\n",
    "        value = q.get()\n",
    "        with lock:\n",
    "            print(f'value is {value} in thread {current_thread().name}')\n",
    "        q.task_done()\n",
    "\n",
    "q = Queue()\n",
    "lock = Lock()\n",
    "num_threads = 10\n",
    "\n",
    "for i in range(num_threads):\n",
    "    thread = Thread(target=worker, args=(q, lock))\n",
    "    thread.daemon = True\n",
    "    thread.start()\n",
    "\n",
    "# Fill queue\n",
    "for i in range(1, 20):\n",
    "    q.put(i)\n",
    "\n",
    "\n",
    "q.join()\n",
    "print('end')"
   ]
  }
 ],
 "metadata": {
  "kernelspec": {
   "display_name": "venv",
   "language": "python",
   "name": "python3"
  },
  "language_info": {
   "codemirror_mode": {
    "name": "ipython",
    "version": 3
   },
   "file_extension": ".py",
   "mimetype": "text/x-python",
   "name": "python",
   "nbconvert_exporter": "python",
   "pygments_lexer": "ipython3",
   "version": "3.11.2"
  },
  "orig_nbformat": 4
 },
 "nbformat": 4,
 "nbformat_minor": 2
}
