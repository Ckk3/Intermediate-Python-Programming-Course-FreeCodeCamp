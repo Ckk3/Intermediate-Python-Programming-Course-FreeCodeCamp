{
 "cells": [
  {
   "attachments": {},
   "cell_type": "markdown",
   "metadata": {},
   "source": [
    "Decorators"
   ]
  },
  {
   "cell_type": "code",
   "execution_count": 12,
   "metadata": {},
   "outputs": [
    {
     "name": "stdout",
     "output_type": "stream",
     "text": [
      "Doing -> Something\n"
     ]
    }
   ],
   "source": [
    "# decorator extends the functionality of another function\n",
    "import functools\n",
    "\n",
    "def start_end_decorator(function):\n",
    "    @functools.wraps(function)\n",
    "    def wrapper(*args, **kwargs):\n",
    "        print('Doing -> ', end='')\n",
    "        return function(*args, **kwargs)\n",
    "    return wrapper\n",
    "\n",
    "@start_end_decorator\n",
    "def do_something():\n",
    "    print('Something')\n",
    "\n",
    "do_something()"
   ]
  },
  {
   "cell_type": "code",
   "execution_count": 13,
   "metadata": {},
   "outputs": [
    {
     "name": "stdout",
     "output_type": "stream",
     "text": [
      "Doing -> 15\n"
     ]
    }
   ],
   "source": [
    "# using decorator with arguments\n",
    "@start_end_decorator\n",
    "def add_five(x:int):\n",
    "    print(x+5)\n",
    "\n",
    "add_five(10)"
   ]
  },
  {
   "cell_type": "code",
   "execution_count": 14,
   "metadata": {},
   "outputs": [
    {
     "name": "stdout",
     "output_type": "stream",
     "text": [
      "Doing -> 20\n"
     ]
    }
   ],
   "source": [
    "#Return a value from a decorator\n",
    "@start_end_decorator\n",
    "def return_plus_10(x:10):\n",
    "    return x+10\n",
    "\n",
    "result = return_plus_10(10)\n",
    "print(result)"
   ]
  },
  {
   "cell_type": "code",
   "execution_count": 15,
   "metadata": {},
   "outputs": [
    {
     "name": "stdout",
     "output_type": "stream",
     "text": [
      "Help on function return_plus_10 in module __main__:\n",
      "\n",
      "return_plus_10(x: 10)\n",
      "\n",
      "None\n",
      "Help on function add_five in module __main__:\n",
      "\n",
      "add_five(x: int)\n",
      "\n",
      "None\n",
      "Help on function do_something in module __main__:\n",
      "\n",
      "do_something()\n",
      "\n",
      "None\n",
      "Help on function start_end_decorator in module __main__:\n",
      "\n",
      "start_end_decorator(function)\n",
      "\n",
      "None\n"
     ]
    }
   ],
   "source": [
    "# Get help on a decorator\n",
    "# the wrapper function is the one that is actually called, so we have to add a decorator to the wrapper function\n",
    "print(help(return_plus_10))\n",
    "print(help(add_five))\n",
    "print(help(do_something))\n",
    "print(help(start_end_decorator))"
   ]
  },
  {
   "attachments": {},
   "cell_type": "markdown",
   "metadata": {},
   "source": [
    "Create a repeat decorator"
   ]
  },
  {
   "cell_type": "code",
   "execution_count": 19,
   "metadata": {},
   "outputs": [
    {
     "name": "stdout",
     "output_type": "stream",
     "text": [
      "Doing -> Hello John - 1\n",
      "Doing -> Hello John - 1\n",
      "Doing -> Hello John - 1\n",
      "Doing -> Hello John - 1\n",
      "Doing -> Hello John - 1\n"
     ]
    }
   ],
   "source": [
    "def repeat(num_times):\n",
    "    def decorator_repeat(function):\n",
    "        @functools.wraps(function)\n",
    "        def wrapper(*args, **kwargs):\n",
    "            for _ in range(num_times):\n",
    "                result = function(*args, **kwargs)\n",
    "            return result\n",
    "        return wrapper\n",
    "    return decorator_repeat\n",
    "\n",
    "@repeat(num_times=5)\n",
    "@start_end_decorator\n",
    "def greet(name):\n",
    "    # Values are not retained between calls\n",
    "    x = 1\n",
    "    print(f'Hello {name} - {x}')\n",
    "    x += 1\n",
    "\n",
    "greet('John')"
   ]
  }
 ],
 "metadata": {
  "kernelspec": {
   "display_name": "venv",
   "language": "python",
   "name": "python3"
  },
  "language_info": {
   "codemirror_mode": {
    "name": "ipython",
    "version": 3
   },
   "file_extension": ".py",
   "mimetype": "text/x-python",
   "name": "python",
   "nbconvert_exporter": "python",
   "pygments_lexer": "ipython3",
   "version": "3.11.0"
  },
  "orig_nbformat": 4,
  "vscode": {
   "interpreter": {
    "hash": "5fc763256bb489618dad0275bd04110f4b50f4b5b410c25efa6c1a65b23f5f1b"
   }
  }
 },
 "nbformat": 4,
 "nbformat_minor": 2
}
